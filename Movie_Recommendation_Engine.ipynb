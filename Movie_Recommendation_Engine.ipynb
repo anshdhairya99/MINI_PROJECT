{
 "cells": [
  {
   "cell_type": "markdown",
   "metadata": {},
   "source": [
    "# Project on:-- Movies Recommendation Engine Using Of (streamlit)"
   ]
  },
  {
   "cell_type": "code",
   "execution_count": 1,
   "metadata": {},
   "outputs": [],
   "source": [
    "import pandas as pd\n",
    "import numpy as np\n",
    "from sklearn.metrics.pairwise import cosine_similarity \n",
    "from sklearn.feature_extraction.text import TfidfVectorizer\n"
   ]
  },
  {
   "cell_type": "code",
   "execution_count": 2,
   "metadata": {},
   "outputs": [],
   "source": [
    "pd.set_option('display.max_columns',None) # display all columns"
   ]
  },
  {
   "cell_type": "code",
   "execution_count": 3,
   "metadata": {},
   "outputs": [
    {
     "data": {
      "text/html": [
       "<div>\n",
       "<style scoped>\n",
       "    .dataframe tbody tr th:only-of-type {\n",
       "        vertical-align: middle;\n",
       "    }\n",
       "\n",
       "    .dataframe tbody tr th {\n",
       "        vertical-align: top;\n",
       "    }\n",
       "\n",
       "    .dataframe thead th {\n",
       "        text-align: right;\n",
       "    }\n",
       "</style>\n",
       "<table border=\"1\" class=\"dataframe\">\n",
       "  <thead>\n",
       "    <tr style=\"text-align: right;\">\n",
       "      <th></th>\n",
       "      <th>Unnamed: 0</th>\n",
       "      <th>id</th>\n",
       "      <th>genre_ids</th>\n",
       "      <th>title</th>\n",
       "      <th>overview</th>\n",
       "      <th>popularity</th>\n",
       "      <th>release_date</th>\n",
       "      <th>vote_average</th>\n",
       "      <th>vote_count</th>\n",
       "    </tr>\n",
       "  </thead>\n",
       "  <tbody>\n",
       "    <tr>\n",
       "      <th>0</th>\n",
       "      <td>0</td>\n",
       "      <td>238</td>\n",
       "      <td>[18, 80]</td>\n",
       "      <td>The Godfather</td>\n",
       "      <td>Spanning the years 1945 to 1955, a chronicle o...</td>\n",
       "      <td>119.438</td>\n",
       "      <td>1972-03-14</td>\n",
       "      <td>8.7</td>\n",
       "      <td>18448</td>\n",
       "    </tr>\n",
       "    <tr>\n",
       "      <th>1</th>\n",
       "      <td>1</td>\n",
       "      <td>278</td>\n",
       "      <td>[18, 80]</td>\n",
       "      <td>The Shawshank Redemption</td>\n",
       "      <td>Framed in the 1940s for the double murder of h...</td>\n",
       "      <td>90.415</td>\n",
       "      <td>1994-09-23</td>\n",
       "      <td>8.7</td>\n",
       "      <td>24376</td>\n",
       "    </tr>\n",
       "    <tr>\n",
       "      <th>2</th>\n",
       "      <td>2</td>\n",
       "      <td>240</td>\n",
       "      <td>[18, 80]</td>\n",
       "      <td>The Godfather Part II</td>\n",
       "      <td>In the continuing saga of the Corleone crime f...</td>\n",
       "      <td>70.637</td>\n",
       "      <td>1974-12-20</td>\n",
       "      <td>8.6</td>\n",
       "      <td>11144</td>\n",
       "    </tr>\n",
       "    <tr>\n",
       "      <th>3</th>\n",
       "      <td>3</td>\n",
       "      <td>424</td>\n",
       "      <td>[18, 36, 10752]</td>\n",
       "      <td>Schindler's List</td>\n",
       "      <td>The true story of how businessman Oskar Schind...</td>\n",
       "      <td>48.096</td>\n",
       "      <td>1993-12-15</td>\n",
       "      <td>8.6</td>\n",
       "      <td>14421</td>\n",
       "    </tr>\n",
       "    <tr>\n",
       "      <th>4</th>\n",
       "      <td>4</td>\n",
       "      <td>19404</td>\n",
       "      <td>[35, 18, 10749]</td>\n",
       "      <td>Dilwale Dulhania Le Jayenge</td>\n",
       "      <td>Raj is a rich, carefree, happy-go-lucky second...</td>\n",
       "      <td>26.588</td>\n",
       "      <td>1995-10-20</td>\n",
       "      <td>8.6</td>\n",
       "      <td>4225</td>\n",
       "    </tr>\n",
       "  </tbody>\n",
       "</table>\n",
       "</div>"
      ],
      "text/plain": [
       "   Unnamed: 0     id        genre_ids                        title  \\\n",
       "0           0    238         [18, 80]                The Godfather   \n",
       "1           1    278         [18, 80]     The Shawshank Redemption   \n",
       "2           2    240         [18, 80]        The Godfather Part II   \n",
       "3           3    424  [18, 36, 10752]             Schindler's List   \n",
       "4           4  19404  [35, 18, 10749]  Dilwale Dulhania Le Jayenge   \n",
       "\n",
       "                                            overview  popularity release_date  \\\n",
       "0  Spanning the years 1945 to 1955, a chronicle o...     119.438   1972-03-14   \n",
       "1  Framed in the 1940s for the double murder of h...      90.415   1994-09-23   \n",
       "2  In the continuing saga of the Corleone crime f...      70.637   1974-12-20   \n",
       "3  The true story of how businessman Oskar Schind...      48.096   1993-12-15   \n",
       "4  Raj is a rich, carefree, happy-go-lucky second...      26.588   1995-10-20   \n",
       "\n",
       "   vote_average  vote_count  \n",
       "0           8.7       18448  \n",
       "1           8.7       24376  \n",
       "2           8.6       11144  \n",
       "3           8.6       14421  \n",
       "4           8.6        4225  "
      ]
     },
     "execution_count": 3,
     "metadata": {},
     "output_type": "execute_result"
    }
   ],
   "source": [
    "df = pd.read_csv('MoviesTopRated.csv')\n",
    "df.head()"
   ]
  },
  {
   "cell_type": "code",
   "execution_count": 4,
   "metadata": {},
   "outputs": [],
   "source": [
    "df['title']=df['title'].apply(lambda n: n.strip())"
   ]
  },
  {
   "cell_type": "code",
   "execution_count": 5,
   "metadata": {},
   "outputs": [
    {
     "name": "stdout",
     "output_type": "stream",
     "text": [
      "['Unnamed: 0', 'id', 'genre_ids', 'title', 'overview', 'popularity', 'release_date', 'vote_average', 'vote_count']\n"
     ]
    }
   ],
   "source": [
    "print(df.columns.tolist())"
   ]
  },
  {
   "cell_type": "code",
   "execution_count": 6,
   "metadata": {},
   "outputs": [
    {
     "data": {
      "text/html": [
       "<div>\n",
       "<style scoped>\n",
       "    .dataframe tbody tr th:only-of-type {\n",
       "        vertical-align: middle;\n",
       "    }\n",
       "\n",
       "    .dataframe tbody tr th {\n",
       "        vertical-align: top;\n",
       "    }\n",
       "\n",
       "    .dataframe thead th {\n",
       "        text-align: right;\n",
       "    }\n",
       "</style>\n",
       "<table border=\"1\" class=\"dataframe\">\n",
       "  <thead>\n",
       "    <tr style=\"text-align: right;\">\n",
       "      <th></th>\n",
       "      <th>genre_ids</th>\n",
       "      <th>title</th>\n",
       "      <th>overview</th>\n",
       "      <th>release_date</th>\n",
       "    </tr>\n",
       "  </thead>\n",
       "  <tbody>\n",
       "    <tr>\n",
       "      <th>0</th>\n",
       "      <td>[18, 80]</td>\n",
       "      <td>The Godfather</td>\n",
       "      <td>Spanning the years 1945 to 1955, a chronicle o...</td>\n",
       "      <td>1972-03-14</td>\n",
       "    </tr>\n",
       "    <tr>\n",
       "      <th>1</th>\n",
       "      <td>[18, 80]</td>\n",
       "      <td>The Shawshank Redemption</td>\n",
       "      <td>Framed in the 1940s for the double murder of h...</td>\n",
       "      <td>1994-09-23</td>\n",
       "    </tr>\n",
       "    <tr>\n",
       "      <th>2</th>\n",
       "      <td>[18, 80]</td>\n",
       "      <td>The Godfather Part II</td>\n",
       "      <td>In the continuing saga of the Corleone crime f...</td>\n",
       "      <td>1974-12-20</td>\n",
       "    </tr>\n",
       "    <tr>\n",
       "      <th>3</th>\n",
       "      <td>[18, 36, 10752]</td>\n",
       "      <td>Schindler's List</td>\n",
       "      <td>The true story of how businessman Oskar Schind...</td>\n",
       "      <td>1993-12-15</td>\n",
       "    </tr>\n",
       "    <tr>\n",
       "      <th>4</th>\n",
       "      <td>[35, 18, 10749]</td>\n",
       "      <td>Dilwale Dulhania Le Jayenge</td>\n",
       "      <td>Raj is a rich, carefree, happy-go-lucky second...</td>\n",
       "      <td>1995-10-20</td>\n",
       "    </tr>\n",
       "    <tr>\n",
       "      <th>...</th>\n",
       "      <td>...</td>\n",
       "      <td>...</td>\n",
       "      <td>...</td>\n",
       "      <td>...</td>\n",
       "    </tr>\n",
       "    <tr>\n",
       "      <th>9995</th>\n",
       "      <td>[35, 12, 28]</td>\n",
       "      <td>OSS 117: From Africa with Love</td>\n",
       "      <td>1981. Hubert Bonisseur de la Bath, aka OSS 117...</td>\n",
       "      <td>2021-08-04</td>\n",
       "    </tr>\n",
       "    <tr>\n",
       "      <th>9996</th>\n",
       "      <td>[878, 18]</td>\n",
       "      <td>Z for Zachariah</td>\n",
       "      <td>In the wake of a nuclear war, a young woman su...</td>\n",
       "      <td>2015-08-13</td>\n",
       "    </tr>\n",
       "    <tr>\n",
       "      <th>9997</th>\n",
       "      <td>[35, 28]</td>\n",
       "      <td>First Sunday</td>\n",
       "      <td>Durell and LeeJohn are best friends and bumbli...</td>\n",
       "      <td>2008-01-11</td>\n",
       "    </tr>\n",
       "    <tr>\n",
       "      <th>9998</th>\n",
       "      <td>[35, 80, 10749]</td>\n",
       "      <td>Mickey Blue Eyes</td>\n",
       "      <td>An English auctioneer proposes to the daughter...</td>\n",
       "      <td>1999-08-16</td>\n",
       "    </tr>\n",
       "    <tr>\n",
       "      <th>9999</th>\n",
       "      <td>[35]</td>\n",
       "      <td>Jay and Silent Bob Reboot</td>\n",
       "      <td>Jay and Silent Bob embark on a cross-country m...</td>\n",
       "      <td>2019-10-15</td>\n",
       "    </tr>\n",
       "  </tbody>\n",
       "</table>\n",
       "<p>10000 rows × 4 columns</p>\n",
       "</div>"
      ],
      "text/plain": [
       "            genre_ids                           title  \\\n",
       "0            [18, 80]                   The Godfather   \n",
       "1            [18, 80]        The Shawshank Redemption   \n",
       "2            [18, 80]           The Godfather Part II   \n",
       "3     [18, 36, 10752]                Schindler's List   \n",
       "4     [35, 18, 10749]     Dilwale Dulhania Le Jayenge   \n",
       "...               ...                             ...   \n",
       "9995     [35, 12, 28]  OSS 117: From Africa with Love   \n",
       "9996        [878, 18]                 Z for Zachariah   \n",
       "9997         [35, 28]                    First Sunday   \n",
       "9998  [35, 80, 10749]                Mickey Blue Eyes   \n",
       "9999             [35]       Jay and Silent Bob Reboot   \n",
       "\n",
       "                                               overview release_date  \n",
       "0     Spanning the years 1945 to 1955, a chronicle o...   1972-03-14  \n",
       "1     Framed in the 1940s for the double murder of h...   1994-09-23  \n",
       "2     In the continuing saga of the Corleone crime f...   1974-12-20  \n",
       "3     The true story of how businessman Oskar Schind...   1993-12-15  \n",
       "4     Raj is a rich, carefree, happy-go-lucky second...   1995-10-20  \n",
       "...                                                 ...          ...  \n",
       "9995  1981. Hubert Bonisseur de la Bath, aka OSS 117...   2021-08-04  \n",
       "9996  In the wake of a nuclear war, a young woman su...   2015-08-13  \n",
       "9997  Durell and LeeJohn are best friends and bumbli...   2008-01-11  \n",
       "9998  An English auctioneer proposes to the daughter...   1999-08-16  \n",
       "9999  Jay and Silent Bob embark on a cross-country m...   2019-10-15  \n",
       "\n",
       "[10000 rows x 4 columns]"
      ]
     },
     "execution_count": 6,
     "metadata": {},
     "output_type": "execute_result"
    }
   ],
   "source": [
    "subset = df.select_dtypes('object').copy()\n",
    "subset"
   ]
  },
  {
   "cell_type": "code",
   "execution_count": 7,
   "metadata": {},
   "outputs": [
    {
     "name": "stdout",
     "output_type": "stream",
     "text": [
      "['genre_ids', 'title', 'overview', 'release_date']\n"
     ]
    }
   ],
   "source": [
    "print(subset.columns.tolist())"
   ]
  },
  {
   "cell_type": "code",
   "execution_count": 8,
   "metadata": {},
   "outputs": [],
   "source": [
    "subset.dropna(inplace=True)"
   ]
  },
  {
   "cell_type": "code",
   "execution_count": 9,
   "metadata": {},
   "outputs": [],
   "source": [
    "subset['text'] = subset['title'] + subset['overview']"
   ]
  },
  {
   "cell_type": "code",
   "execution_count": 10,
   "metadata": {},
   "outputs": [],
   "source": [
    "#stopword\n",
    "from nltk.corpus import stopwords\n",
    "#tokenize\n",
    "from nltk.tokenize import word_tokenize\n",
    "#Lemmatize\n",
    "from nltk.stem import PorterStemmer"
   ]
  },
  {
   "cell_type": "code",
   "execution_count": 11,
   "metadata": {},
   "outputs": [],
   "source": [
    "def preprocessor(text):\n",
    "    # tokenize\n",
    "    tokens =word_tokenize(text)\n",
    "    print(tokens)\n",
    "    #remove stopward\n",
    "    stop_words = set(stopwords.words('english'))\n",
    "    tokens = [w for w in tokens if not w in stop_words]\n",
    "    print(tokens)\n",
    "    #stemming\n",
    "    stemmer = PorterStemmer()\n",
    "    tokens = [stemmer.stem(word) for word in tokens]\n",
    "    print(tokens)\n",
    "    return \" \".join(tokens)"
   ]
  },
  {
   "cell_type": "code",
   "execution_count": 12,
   "metadata": {},
   "outputs": [],
   "source": [
    "combined_features=subset['text']"
   ]
  },
  {
   "cell_type": "code",
   "execution_count": 13,
   "metadata": {},
   "outputs": [
    {
     "data": {
      "text/plain": [
       "(10000, 9)"
      ]
     },
     "execution_count": 13,
     "metadata": {},
     "output_type": "execute_result"
    }
   ],
   "source": [
    "df.shape"
   ]
  },
  {
   "cell_type": "code",
   "execution_count": 14,
   "metadata": {},
   "outputs": [
    {
     "data": {
      "text/plain": [
       "0       The GodfatherSpanning the years 1945 to 1955, ...\n",
       "1       The Shawshank RedemptionFramed in the 1940s fo...\n",
       "2       The Godfather Part IIIn the continuing saga of...\n",
       "3       Schindler's ListThe true story of how business...\n",
       "4       Dilwale Dulhania Le JayengeRaj is a rich, care...\n",
       "                              ...                        \n",
       "9995    OSS 117: From Africa with Love1981. Hubert Bon...\n",
       "9996    Z for ZachariahIn the wake of a nuclear war, a...\n",
       "9997    First SundayDurell and LeeJohn are best friend...\n",
       "9998    Mickey Blue EyesAn English auctioneer proposes...\n",
       "9999    Jay and Silent Bob RebootJay and Silent Bob em...\n",
       "Name: text, Length: 9998, dtype: object"
      ]
     },
     "execution_count": 14,
     "metadata": {},
     "output_type": "execute_result"
    }
   ],
   "source": [
    "subset['text'] # out final data"
   ]
  },
  {
   "cell_type": "code",
   "execution_count": 15,
   "metadata": {},
   "outputs": [],
   "source": [
    "movies=subset[:5000].copy"
   ]
  },
  {
   "cell_type": "code",
   "execution_count": 16,
   "metadata": {},
   "outputs": [
    {
     "data": {
      "text/plain": [
       "<bound method NDFrame.copy of              genre_ids                        title  \\\n",
       "0             [18, 80]                The Godfather   \n",
       "1             [18, 80]     The Shawshank Redemption   \n",
       "2             [18, 80]        The Godfather Part II   \n",
       "3      [18, 36, 10752]             Schindler's List   \n",
       "4      [35, 18, 10749]  Dilwale Dulhania Le Jayenge   \n",
       "...                ...                          ...   \n",
       "4995          [35, 18]                Human Traffic   \n",
       "4996              [18]                        Goal!   \n",
       "4997  [80, 28, 35, 53]                   First Love   \n",
       "4998     [28, 12, 878]                    Bumblebee   \n",
       "4999     [878, 28, 12]                  Superman II   \n",
       "\n",
       "                                               overview release_date  \\\n",
       "0     Spanning the years 1945 to 1955, a chronicle o...   1972-03-14   \n",
       "1     Framed in the 1940s for the double murder of h...   1994-09-23   \n",
       "2     In the continuing saga of the Corleone crime f...   1974-12-20   \n",
       "3     The true story of how businessman Oskar Schind...   1993-12-15   \n",
       "4     Raj is a rich, carefree, happy-go-lucky second...   1995-10-20   \n",
       "...                                                 ...          ...   \n",
       "4995  Five twenty-something friends spend a drug-fue...   1999-06-04   \n",
       "4996  Like millions of kids around the world, Santia...   2005-09-29   \n",
       "4997  A young boxer and a call girl get caught up in...   2019-05-31   \n",
       "4998  On the run in the year 1987, Bumblebee finds r...   2018-12-15   \n",
       "4999  Three escaped criminals from the planet Krypto...   1980-12-04   \n",
       "\n",
       "                                                   text  \n",
       "0     The GodfatherSpanning the years 1945 to 1955, ...  \n",
       "1     The Shawshank RedemptionFramed in the 1940s fo...  \n",
       "2     The Godfather Part IIIn the continuing saga of...  \n",
       "3     Schindler's ListThe true story of how business...  \n",
       "4     Dilwale Dulhania Le JayengeRaj is a rich, care...  \n",
       "...                                                 ...  \n",
       "4995  Human TrafficFive twenty-something friends spe...  \n",
       "4996  Goal!Like millions of kids around the world, S...  \n",
       "4997  First LoveA young boxer and a call girl get ca...  \n",
       "4998  BumblebeeOn the run in the year 1987, Bumblebe...  \n",
       "4999  Superman IIThree escaped criminals from the pl...  \n",
       "\n",
       "[5000 rows x 5 columns]>"
      ]
     },
     "execution_count": 16,
     "metadata": {},
     "output_type": "execute_result"
    }
   ],
   "source": [
    "movies"
   ]
  },
  {
   "cell_type": "code",
   "execution_count": 17,
   "metadata": {},
   "outputs": [],
   "source": [
    "Vectorizer = TfidfVectorizer()"
   ]
  },
  {
   "cell_type": "code",
   "execution_count": 18,
   "metadata": {},
   "outputs": [],
   "source": [
    "feature_vectors = Vectorizer.fit_transform(combined_features)"
   ]
  },
  {
   "cell_type": "code",
   "execution_count": 19,
   "metadata": {},
   "outputs": [
    {
     "name": "stdout",
     "output_type": "stream",
     "text": [
      "  (0, 27894)\t0.12122155604004882\n",
      "  (0, 4123)\t0.15252441156911428\n",
      "  (0, 5375)\t0.1646186290647232\n",
      "  (0, 19141)\t0.204514021386624\n",
      "  (0, 18528)\t0.14857626460213225\n",
      "  (0, 3342)\t0.07927597962773425\n",
      "  (0, 36770)\t0.12905658590607644\n",
      "  (0, 5531)\t0.14283356349016327\n",
      "  (0, 32677)\t0.09862263996699665\n",
      "  (0, 16774)\t0.038960758155327194\n",
      "  (0, 31616)\t0.15842641462306387\n",
      "  (0, 21510)\t0.15399719333975884\n",
      "  (0, 30896)\t0.10011809412295603\n",
      "  (0, 37059)\t0.177824928683404\n",
      "  (0, 19526)\t0.06969201906005121\n",
      "  (0, 15732)\t0.08962187371984055\n",
      "  (0, 23688)\t0.05485407331850818\n",
      "  (0, 2600)\t0.12536358639129436\n",
      "  (0, 1719)\t0.05499982593666725\n",
      "  (0, 32381)\t0.1740800754475442\n",
      "  (0, 3154)\t0.16541520728442063\n",
      "  (0, 35603)\t0.21436417140755562\n",
      "  (0, 24640)\t0.18393022546847582\n",
      "  (0, 23870)\t0.17526535730535225\n",
      "  (0, 36225)\t0.06236706053863284\n",
      "  :\t:\n",
      "  (9996, 33580)\t0.09312661627607552\n",
      "  (9996, 33167)\t0.041717025404352806\n",
      "  (9997, 27044)\t0.28012024170252514\n",
      "  (9997, 27045)\t0.28012024170252514\n",
      "  (9997, 4173)\t0.26818603218492637\n",
      "  (9997, 6364)\t0.2531507063354943\n",
      "  (9997, 17784)\t0.21713085626353154\n",
      "  (9997, 6020)\t0.16807728952922918\n",
      "  (9997, 4198)\t0.4048877170595846\n",
      "  (9997, 10923)\t0.17046048289752896\n",
      "  (9997, 31732)\t0.1387216539367282\n",
      "  (9997, 6990)\t0.19672919033984237\n",
      "  (9997, 7742)\t0.14342010903119257\n",
      "  (9997, 8061)\t0.1687387416858614\n",
      "  (9997, 3225)\t0.15864471773394945\n",
      "  (9997, 30231)\t0.4092502136045202\n",
      "  (9997, 12512)\t0.1370795255223158\n",
      "  (9997, 4324)\t0.16326112215106095\n",
      "  (9997, 33177)\t0.0738761754354635\n",
      "  (9997, 21859)\t0.13753943147699715\n",
      "  (9997, 13368)\t0.07492045471156156\n",
      "  (9997, 15854)\t0.17547432316276143\n",
      "  (9997, 1759)\t0.11717571962579376\n",
      "  (9997, 23688)\t0.13291980375642798\n",
      "  (9997, 33580)\t0.03749255617409198\n"
     ]
    }
   ],
   "source": [
    "print(feature_vectors)"
   ]
  },
  {
   "cell_type": "markdown",
   "metadata": {},
   "source": [
    "cosine simalarity"
   ]
  },
  {
   "cell_type": "code",
   "execution_count": 20,
   "metadata": {},
   "outputs": [],
   "source": [
    "similarity = cosine_similarity(feature_vectors, feature_vectors, dense_output=True)"
   ]
  },
  {
   "cell_type": "code",
   "execution_count": 21,
   "metadata": {},
   "outputs": [
    {
     "name": "stdout",
     "output_type": "stream",
     "text": [
      "[[1.         0.05094557 0.40363534 ... 0.03779929 0.05451975 0.00961163]\n",
      " [0.05094557 1.         0.03304135 ... 0.03748506 0.02256622 0.00813003]\n",
      " [0.40363534 0.03304135 1.         ... 0.03603607 0.01129935 0.03249246]\n",
      " ...\n",
      " [0.03779929 0.03748506 0.03603607 ... 1.         0.01539596 0.01941468]\n",
      " [0.05451975 0.02256622 0.01129935 ... 0.01539596 1.         0.00349155]\n",
      " [0.00961163 0.00813003 0.03249246 ... 0.01941468 0.00349155 1.        ]]\n"
     ]
    }
   ],
   "source": [
    "print(similarity)"
   ]
  },
  {
   "cell_type": "code",
   "execution_count": 22,
   "metadata": {},
   "outputs": [
    {
     "name": "stdout",
     "output_type": "stream",
     "text": [
      "(9998, 9998)\n"
     ]
    }
   ],
   "source": [
    "print(similarity.shape)"
   ]
  },
  {
   "cell_type": "code",
   "execution_count": 23,
   "metadata": {},
   "outputs": [
    {
     "data": {
      "text/plain": [
       "Index(['Unnamed: 0', 'id', 'genre_ids', 'title', 'overview', 'popularity',\n",
       "       'release_date', 'vote_average', 'vote_count'],\n",
       "      dtype='object')"
      ]
     },
     "execution_count": 23,
     "metadata": {},
     "output_type": "execute_result"
    }
   ],
   "source": [
    "df.columns"
   ]
  },
  {
   "cell_type": "code",
   "execution_count": 24,
   "metadata": {},
   "outputs": [],
   "source": [
    "def get_movie_loc(name):\n",
    "    try:\n",
    "        # print(name.title())\n",
    "        return df[df['title'] == name.title() ].index[0]\n",
    "    except Exception as e:\n",
    "        print(f'Error {name} not found, {e}')\n",
    "        return None"
   ]
  },
  {
   "cell_type": "code",
   "execution_count": 25,
   "metadata": {},
   "outputs": [],
   "source": [
    "def recommend(movie, k=5):\n",
    "    if df['title'].str.contains(movie).any():\n",
    "        try:\n",
    "            idx = get_movie_loc(movie)\n",
    "            print(idx)\n",
    "            if idx != -1:\n",
    "                sim_scores = list(enumerate(similarity[idx]))\n",
    "                sim_scores.sort(key=lambda i:i[1], reverse=True)\n",
    "                movie_idxs = [i[0] for i in sim_scores]\n",
    "                return df.iloc[movie_idxs]['title'].head(k).tolist()\n",
    "            else:\n",
    "                return None\n",
    "        except Exception as e:\n",
    "            print(\"Error+>\",e)\n",
    "            return None\n",
    "    else:\n",
    "        print('movie not found')\n",
    "        return None"
   ]
  },
  {
   "cell_type": "code",
   "execution_count": 26,
   "metadata": {},
   "outputs": [
    {
     "data": {
      "text/plain": [
       "0"
      ]
     },
     "execution_count": 26,
     "metadata": {},
     "output_type": "execute_result"
    }
   ],
   "source": [
    "get_movie_loc('the godfather')"
   ]
  },
  {
   "cell_type": "code",
   "execution_count": 27,
   "metadata": {},
   "outputs": [
    {
     "name": "stdout",
     "output_type": "stream",
     "text": [
      "1013\n"
     ]
    },
    {
     "data": {
      "text/plain": [
       "['Iron Man',\n",
       " 'Iron Man 2',\n",
       " 'Iron Man 3',\n",
       " 'Battle for the Planet of the Apes',\n",
       " 'Accident Man']"
      ]
     },
     "execution_count": 27,
     "metadata": {},
     "output_type": "execute_result"
    }
   ],
   "source": [
    "recommend('Iron Man')"
   ]
  },
  {
   "cell_type": "code",
   "execution_count": null,
   "metadata": {},
   "outputs": [],
   "source": []
  },
  {
   "cell_type": "code",
   "execution_count": null,
   "metadata": {},
   "outputs": [],
   "source": []
  },
  {
   "cell_type": "code",
   "execution_count": null,
   "metadata": {},
   "outputs": [],
   "source": []
  }
 ],
 "metadata": {
  "kernelspec": {
   "display_name": "base",
   "language": "python",
   "name": "python3"
  },
  "language_info": {
   "codemirror_mode": {
    "name": "ipython",
    "version": 3
   },
   "file_extension": ".py",
   "mimetype": "text/x-python",
   "name": "python",
   "nbconvert_exporter": "python",
   "pygments_lexer": "ipython3",
   "version": "3.10.10"
  },
  "orig_nbformat": 4
 },
 "nbformat": 4,
 "nbformat_minor": 2
}
